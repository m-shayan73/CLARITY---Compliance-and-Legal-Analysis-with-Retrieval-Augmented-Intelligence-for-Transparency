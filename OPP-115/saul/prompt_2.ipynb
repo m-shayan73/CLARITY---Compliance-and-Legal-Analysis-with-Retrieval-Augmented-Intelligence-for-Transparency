{
 "cells": [
  {
   "cell_type": "markdown",
   "metadata": {},
   "source": [
    "# ChatGPT\n"
   ]
  },
  {
   "cell_type": "markdown",
   "metadata": {},
   "source": [
    "### Import Libraries"
   ]
  },
  {
   "cell_type": "code",
   "execution_count": null,
   "metadata": {
    "execution": {
     "iopub.execute_input": "2024-12-18T13:34:02.479398Z",
     "iopub.status.busy": "2024-12-18T13:34:02.479023Z",
     "iopub.status.idle": "2024-12-18T13:34:02.484724Z",
     "shell.execute_reply": "2024-12-18T13:34:02.483802Z",
     "shell.execute_reply.started": "2024-12-18T13:34:02.479357Z"
    },
    "trusted": true
   },
   "outputs": [],
   "source": [
    "from pydantic import BaseModel\n",
    "from sklearn.metrics import (\n",
    "    classification_report,\n",
    "    multilabel_confusion_matrix,\n",
    ")\n",
    "from tqdm.notebook import tqdm\n",
    "import numpy as np\n",
    "import pandas as pd\n",
    "import matplotlib.pyplot as plt\n",
    "import seaborn as sns\n",
    "import time\n",
    "import random\n",
    "import enum\n",
    "import dotenv\n",
    "import csv\n",
    "import os\n",
    "import torch\n",
    "from transformers import pipeline\n",
    "from datasets import Dataset\n",
    "import json\n",
    "import copy"
   ]
  },
  {
   "cell_type": "code",
   "execution_count": 4,
   "metadata": {
    "execution": {
     "iopub.execute_input": "2024-12-18T13:32:14.806411Z",
     "iopub.status.busy": "2024-12-18T13:32:14.805679Z",
     "iopub.status.idle": "2024-12-18T13:32:14.810311Z",
     "shell.execute_reply": "2024-12-18T13:32:14.809389Z",
     "shell.execute_reply.started": "2024-12-18T13:32:14.806376Z"
    },
    "trusted": true
   },
   "outputs": [],
   "source": [
    "# Path to save the inferences\n",
    "csv_file_path = \"prompt2_saul_inferences.csv\"\n",
    "cleaned_csv_file_path = \"prompt2_saul_inferences_cleaned.csv\""
   ]
  },
  {
   "cell_type": "markdown",
   "metadata": {},
   "source": [
    "### Load and Preprocess Dataset\n"
   ]
  },
  {
   "cell_type": "code",
   "execution_count": 5,
   "metadata": {
    "execution": {
     "iopub.execute_input": "2024-12-18T09:57:14.323496Z",
     "iopub.status.busy": "2024-12-18T09:57:14.323073Z",
     "iopub.status.idle": "2024-12-18T09:57:14.381653Z",
     "shell.execute_reply": "2024-12-18T09:57:14.380654Z",
     "shell.execute_reply.started": "2024-12-18T09:57:14.323461Z"
    },
    "trusted": true,
    "vscode": {
     "languageId": "javascript"
    }
   },
   "outputs": [
    {
     "data": {
      "text/html": [
       "<div>\n",
       "<style scoped>\n",
       "    .dataframe tbody tr th:only-of-type {\n",
       "        vertical-align: middle;\n",
       "    }\n",
       "\n",
       "    .dataframe tbody tr th {\n",
       "        vertical-align: top;\n",
       "    }\n",
       "\n",
       "    .dataframe thead th {\n",
       "        text-align: right;\n",
       "    }\n",
       "</style>\n",
       "<table border=\"1\" class=\"dataframe\">\n",
       "  <thead>\n",
       "    <tr style=\"text-align: right;\">\n",
       "      <th></th>\n",
       "      <th>segment_id</th>\n",
       "      <th>policy_id</th>\n",
       "      <th>text</th>\n",
       "      <th>label</th>\n",
       "    </tr>\n",
       "  </thead>\n",
       "  <tbody>\n",
       "    <tr>\n",
       "      <th>0</th>\n",
       "      <td>16</td>\n",
       "      <td>686</td>\n",
       "      <td>2. We disclose information to third parties if...</td>\n",
       "      <td>2</td>\n",
       "    </tr>\n",
       "    <tr>\n",
       "      <th>1</th>\n",
       "      <td>6</td>\n",
       "      <td>1017</td>\n",
       "      <td>During the course of any visit to the Sci-News...</td>\n",
       "      <td>10, 1</td>\n",
       "    </tr>\n",
       "    <tr>\n",
       "      <th>2</th>\n",
       "      <td>21</td>\n",
       "      <td>531</td>\n",
       "      <td>This information is primarily collected for st...</td>\n",
       "      <td>2, 5, 1</td>\n",
       "    </tr>\n",
       "    <tr>\n",
       "      <th>3</th>\n",
       "      <td>58</td>\n",
       "      <td>453</td>\n",
       "      <td>Third party providers of products and services...</td>\n",
       "      <td>6, 2</td>\n",
       "    </tr>\n",
       "    <tr>\n",
       "      <th>4</th>\n",
       "      <td>12</td>\n",
       "      <td>760</td>\n",
       "      <td>Security The Smithsonian takes reasonable ste...</td>\n",
       "      <td>6</td>\n",
       "    </tr>\n",
       "  </tbody>\n",
       "</table>\n",
       "</div>"
      ],
      "text/plain": [
       "   segment_id  policy_id                                               text  \\\n",
       "0          16        686  2. We disclose information to third parties if...   \n",
       "1           6       1017  During the course of any visit to the Sci-News...   \n",
       "2          21        531  This information is primarily collected for st...   \n",
       "3          58        453  Third party providers of products and services...   \n",
       "4          12        760   Security The Smithsonian takes reasonable ste...   \n",
       "\n",
       "     label  \n",
       "0        2  \n",
       "1    10, 1  \n",
       "2  2, 5, 1  \n",
       "3     6, 2  \n",
       "4        6  "
      ]
     },
     "execution_count": 5,
     "metadata": {},
     "output_type": "execute_result"
    }
   ],
   "source": [
    "opp_115 = pd.read_csv('../opp_115_val.csv')\n",
    "opp_115.head()"
   ]
  },
  {
   "cell_type": "code",
   "execution_count": 6,
   "metadata": {
    "execution": {
     "iopub.execute_input": "2024-12-18T09:57:20.291816Z",
     "iopub.status.busy": "2024-12-18T09:57:20.291437Z",
     "iopub.status.idle": "2024-12-18T09:57:20.307189Z",
     "shell.execute_reply": "2024-12-18T09:57:20.306334Z",
     "shell.execute_reply.started": "2024-12-18T09:57:20.291783Z"
    },
    "trusted": true
   },
   "outputs": [],
   "source": [
    "# One-hot encoding of labels\n",
    "classes = list(range(1, 11))\n",
    "\n",
    "\n",
    "def to_binary_matrix(y, classes):\n",
    "    return np.array(\n",
    "        [[1 if cls in curr_labels else 0 for cls in classes] for curr_labels in y]\n",
    "    )\n",
    "\n",
    "\n",
    "y_true = (\n",
    "    opp_115[\"label\"]\n",
    "    .apply(lambda x: [int(i) for i in x.split(\",\")] if isinstance(x, str) else [])\n",
    "    .tolist()\n",
    ")\n",
    "y_true_binary = to_binary_matrix(y_true, classes)\n",
    "y_true_binary = y_true_binary.astype(bool)"
   ]
  },
  {
   "cell_type": "markdown",
   "metadata": {},
   "source": [
    "### Load Model\n"
   ]
  },
  {
   "cell_type": "code",
   "execution_count": 6,
   "metadata": {
    "execution": {
     "iopub.execute_input": "2024-12-18T09:57:22.136546Z",
     "iopub.status.busy": "2024-12-18T09:57:22.136189Z",
     "iopub.status.idle": "2024-12-18T09:57:52.075515Z",
     "shell.execute_reply": "2024-12-18T09:57:52.074573Z",
     "shell.execute_reply.started": "2024-12-18T09:57:22.136515Z"
    },
    "trusted": true
   },
   "outputs": [
    {
     "data": {
      "application/vnd.jupyter.widget-view+json": {
       "model_id": "0bfb49d03cd943e1886690ca99f076ed",
       "version_major": 2,
       "version_minor": 0
      },
      "text/plain": [
       "Loading checkpoint shards:   0%|          | 0/3 [00:00<?, ?it/s]"
      ]
     },
     "metadata": {},
     "output_type": "display_data"
    }
   ],
   "source": [
    "pipe = pipeline(\"text-generation\", model=\"/kaggle/working/saul\", torch_dtype=torch.bfloat16, device_map=\"auto\")"
   ]
  },
  {
   "cell_type": "markdown",
   "metadata": {},
   "source": [
    "### Define Categories\n"
   ]
  },
  {
   "cell_type": "code",
   "execution_count": 7,
   "metadata": {
    "execution": {
     "iopub.execute_input": "2024-12-18T09:57:52.077183Z",
     "iopub.status.busy": "2024-12-18T09:57:52.076886Z",
     "iopub.status.idle": "2024-12-18T09:57:52.082862Z",
     "shell.execute_reply": "2024-12-18T09:57:52.082097Z",
     "shell.execute_reply.started": "2024-12-18T09:57:52.077155Z"
    },
    "jupyter": {
     "source_hidden": true
    },
    "trusted": true
   },
   "outputs": [],
   "source": [
    "category_names = [\n",
    "    \"First Party Collection/Use\",\n",
    "    \"Third Party Sharing/Collection\",\n",
    "    \"User Choice/Control\",\n",
    "    \"User Access, Edit, & Deletion\",\n",
    "    \"Data Retention\",\n",
    "    \"Data Security\",\n",
    "    \"Policy Change\",\n",
    "    \"Do Not Track\",\n",
    "    \"International & Specific Audiences\",\n",
    "    \"Other\",\n",
    "]\n",
    "\n",
    "category_descriptions = [\n",
    "    \"how and why a service provider collects user information.\",\n",
    "    \"how user information may be shared with or collected by third parties.\",\n",
    "    \"choices and control options available to users.\",\n",
    "    \"if and how users may access, edit, or delete their information.\",\n",
    "    \"how long user information is stored.\",\n",
    "    \"how user information is protected.\",\n",
    "    \"if and how users will be informed about changes to the privacy policy.\",\n",
    "    \"if and how Do Not Track signals for online tracking and advertising are honored.\",\n",
    "    \"practices that pertain only to a specific group of users (e.g., children, Europeans, or California residents).\",\n",
    "    \"includes privacy contact information, introductory or generic text, or data practices not covered in the above categories.\",\n",
    "]\n",
    "\n",
    "category_names_str = \"\\n\".join(\n",
    "    [f\"{i+1}. {name}\" for i, name in enumerate(category_names)]\n",
    ")\n",
    "\n",
    "category_names_with_description_str = \"\\n\".join(\n",
    "    [\n",
    "        f\"{i+1}. {name}: {description}\"\n",
    "        for i, (name, description) in enumerate(\n",
    "            zip(category_names, category_descriptions)\n",
    "        )\n",
    "    ]\n",
    ")"
   ]
  },
  {
   "cell_type": "code",
   "execution_count": 8,
   "metadata": {
    "execution": {
     "iopub.execute_input": "2024-12-18T09:57:52.084255Z",
     "iopub.status.busy": "2024-12-18T09:57:52.083946Z",
     "iopub.status.idle": "2024-12-18T09:57:52.177943Z",
     "shell.execute_reply": "2024-12-18T09:57:52.177275Z",
     "shell.execute_reply.started": "2024-12-18T09:57:52.084206Z"
    },
    "trusted": true
   },
   "outputs": [],
   "source": [
    "# Define output classes (for validation and later processing)\n",
    "class Classification(enum.Enum):\n",
    "    YES = \"yes\"\n",
    "    NO = \"no\"\n",
    "\n",
    "\n",
    "class ClassificationWithDescription(BaseModel):\n",
    "    presence: Classification\n",
    "    description: str\n",
    "\n",
    "\n",
    "class CategoryClassification(BaseModel):\n",
    "    first_party_collection_use: Classification\n",
    "    third_party_sharing_collection: Classification\n",
    "    user_choice_control: Classification\n",
    "    user_access_edit_deletion: Classification\n",
    "    data_retention: Classification\n",
    "    data_security: Classification\n",
    "    policy_change: Classification\n",
    "    do_not_track: Classification\n",
    "    international_specific_audiences: Classification\n",
    "    other: Classification\n",
    "\n",
    "\n",
    "class CategoryClassificationWithDescription(BaseModel):\n",
    "    first_party_collection_use: ClassificationWithDescription\n",
    "    third_party_sharing_collection: ClassificationWithDescription\n",
    "    user_choice_control: ClassificationWithDescription\n",
    "    user_access_edit_deletion: ClassificationWithDescription\n",
    "    data_retention: ClassificationWithDescription\n",
    "    data_security: ClassificationWithDescription\n",
    "    policy_change: ClassificationWithDescription\n",
    "    do_not_track: ClassificationWithDescription\n",
    "    international_specific_audiences: ClassificationWithDescription\n",
    "    other: ClassificationWithDescription"
   ]
  },
  {
   "cell_type": "markdown",
   "metadata": {},
   "source": [
    "### Run the Inferences using Prompt 1\n"
   ]
  },
  {
   "cell_type": "code",
   "execution_count": 9,
   "metadata": {
    "execution": {
     "iopub.execute_input": "2024-12-18T09:57:52.180263Z",
     "iopub.status.busy": "2024-12-18T09:57:52.179987Z",
     "iopub.status.idle": "2024-12-18T09:57:52.184065Z",
     "shell.execute_reply": "2024-12-18T09:57:52.183267Z",
     "shell.execute_reply.started": "2024-12-18T09:57:52.180236Z"
    },
    "trusted": true
   },
   "outputs": [],
   "source": [
    "inferences = {}\n",
    "current_idx = 0\n",
    "max_idx = len(opp_115)"
   ]
  },
  {
   "cell_type": "code",
   "execution_count": 10,
   "metadata": {
    "execution": {
     "iopub.execute_input": "2024-12-18T09:57:52.185905Z",
     "iopub.status.busy": "2024-12-18T09:57:52.185196Z",
     "iopub.status.idle": "2024-12-18T09:57:52.515204Z",
     "shell.execute_reply": "2024-12-18T09:57:52.514281Z",
     "shell.execute_reply.started": "2024-12-18T09:57:52.185874Z"
    },
    "trusted": true
   },
   "outputs": [
    {
     "name": "stdout",
     "output_type": "stream",
     "text": [
      "Starting from index 745\n"
     ]
    }
   ],
   "source": [
    "# Check if the there are any exisitng inferences saved in a CSV file\n",
    "csv_exist = False\n",
    "\n",
    "if os.path.exists(csv_file_path):\n",
    "    csv_exist = True\n",
    "\n",
    "    # Load the CSV file and add the existing inferences to the inferences dictionary\n",
    "    existing_inferences = pd.read_csv(csv_file_path)\n",
    "\n",
    "    # Add the existing data to inferences\n",
    "    for _, row in existing_inferences.iterrows():\n",
    "        policy_id = row[\"policy_id\"]\n",
    "        segment_id = row[\"segment_id\"]\n",
    "        inferences[(policy_id, segment_id)] = row[\"response\"]\n",
    "\n",
    "while current_idx < max_idx:\n",
    "    policy_id = opp_115.iloc[current_idx][\"policy_id\"]\n",
    "    segment_id = opp_115.iloc[current_idx][\"segment_id\"]\n",
    "\n",
    "    if (policy_id, segment_id) in inferences:\n",
    "        current_idx += 1\n",
    "        continue\n",
    "    else:\n",
    "        break\n",
    "\n",
    "print(f\"Starting from index {current_idx}\")"
   ]
  },
  {
   "cell_type": "code",
   "execution_count": 11,
   "metadata": {
    "execution": {
     "iopub.execute_input": "2024-12-18T09:57:52.516829Z",
     "iopub.status.busy": "2024-12-18T09:57:52.516445Z",
     "iopub.status.idle": "2024-12-18T09:57:52.521102Z",
     "shell.execute_reply": "2024-12-18T09:57:52.520244Z",
     "shell.execute_reply.started": "2024-12-18T09:57:52.516787Z"
    },
    "trusted": true
   },
   "outputs": [],
   "source": [
    "batch_size = 8"
   ]
  },
  {
   "cell_type": "code",
   "execution_count": 12,
   "metadata": {
    "collapsed": true,
    "execution": {
     "iopub.execute_input": "2024-12-18T09:57:52.523103Z",
     "iopub.status.busy": "2024-12-18T09:57:52.522406Z",
     "iopub.status.idle": "2024-12-18T12:15:37.725667Z",
     "shell.execute_reply": "2024-12-18T12:15:37.724746Z",
     "shell.execute_reply.started": "2024-12-18T09:57:52.523062Z"
    },
    "jupyter": {
     "outputs_hidden": true
    },
    "trusted": true
   },
   "outputs": [
    {
     "data": {
      "application/vnd.jupyter.widget-view+json": {
       "model_id": "75996f4b71e64e418631ae82749e4a10",
       "version_major": 2,
       "version_minor": 0
      },
      "text/plain": [
       "Running Batched Inferences:   0%|          | 0/745 [00:00<?, ?it/s]"
      ]
     },
     "metadata": {},
     "output_type": "display_data"
    },
    {
     "name": "stdout",
     "output_type": "stream",
     "text": [
      "Inference completed. Total inferences: 745\n"
     ]
    }
   ],
   "source": [
    "# Initialize tqdm progress bar\n",
    "progress_bar = tqdm(total=max_idx, desc=\"Running Batched Inferences\")\n",
    "progress_bar.update(current_idx)\n",
    "\n",
    "# Batch inference\n",
    "while current_idx < max_idx:\n",
    "    try:\n",
    "        # Collect a batch of records\n",
    "        batch_records = opp_115.iloc[current_idx:current_idx + batch_size]\n",
    "\n",
    "        # Prepare the input prompts for this batch\n",
    "        prompts = []\n",
    "        policy_segment_keys = []\n",
    "\n",
    "        for _, record in batch_records.iterrows():\n",
    "            policy_id = record[\"policy_id\"]\n",
    "            segment_id = record[\"segment_id\"]\n",
    "            text = record[\"text\"]\n",
    "\n",
    "            # Skip if already inferred\n",
    "            if (policy_id, segment_id) in inferences:\n",
    "                continue\n",
    "\n",
    "            user_prompt = f\"\"\"\n",
    "You are an expert legal language model specializing in privacy policy analysis. Your task is to evaluate a given text segment to determine its relevance to specific privacy policy categories. For each category, provide a structured JSON response indicating whether the text fits the category.\n",
    "Text Segment:\n",
    "\\\" {text} \\\"\n",
    "\n",
    "Category Names:\n",
    "{category_names_with_description_str}\n",
    "            \"\"\"\n",
    "\n",
    "            messages = [{\"role\": \"user\", \"content\": user_prompt}]\n",
    "            prompt = pipe.tokenizer.apply_chat_template(messages, tokenize=False, add_generation_prompt=True)\n",
    "\n",
    "            prompts.append(prompt)\n",
    "            policy_segment_keys.append((policy_id, segment_id))\n",
    "\n",
    "        # Skip batch if no new records\n",
    "        if not prompts:\n",
    "            current_idx += batch_size\n",
    "            progress_bar.update(batch_size)\n",
    "            continue\n",
    "\n",
    "        # Run batched inference\n",
    "        outputs = pipe(prompts, max_new_tokens=256, do_sample=False)\n",
    "\n",
    "        # Process and store results\n",
    "        for idx, output in enumerate(outputs):\n",
    "            generated_text = output[0][\"generated_text\"]\n",
    "            policy_id, segment_id = policy_segment_keys[idx]\n",
    "            inferences[(policy_id, segment_id)] = generated_text\n",
    "\n",
    "        # Define the Columns in the CSV (Header)\n",
    "        header = [\n",
    "            \"policy_id\",\n",
    "            \"segment_id\",\n",
    "            \"response\",\n",
    "        ]\n",
    "        \n",
    "        # Convert the inferences dict in a format suitable for csv format\n",
    "        csv_data = []\n",
    "        for (policy_id, segment_id), response in inferences.items():\n",
    "            row = [\n",
    "                policy_id,\n",
    "                segment_id,\n",
    "                response\n",
    "            ]\n",
    "            csv_data.append(row)\n",
    "        \n",
    "        # Write/Append the data to CSV\n",
    "        with open(csv_file_path, mode=\"w\", newline=\"\") as file:\n",
    "            writer = csv.writer(file)\n",
    "            writer.writerow(header)\n",
    "            writer.writerows(csv_data)\n",
    "\n",
    "        # Update the progress\n",
    "        progress_bar.update(len(prompts))\n",
    "        current_idx += batch_size\n",
    "\n",
    "    except Exception as e:\n",
    "        print(f\"Error at index {current_idx}: {e}\")\n",
    "        current_idx += batch_size\n",
    "        progress_bar.update(batch_size)\n",
    "\n",
    "# Close the progress bar\n",
    "progress_bar.close()\n",
    "\n",
    "# Print results for verification\n",
    "print(\"Inference completed. Total inferences:\", len(inferences))"
   ]
  },
  {
   "cell_type": "code",
   "execution_count": null,
   "metadata": {
    "trusted": true
   },
   "outputs": [],
   "source": [
    "# Define the Columns in the CSV (Header)\n",
    "header = [\n",
    "    \"policy_id\",\n",
    "    \"segment_id\",\n",
    "    \"response\",\n",
    "]\n",
    "\n",
    "# Convert the inferences dict in a format suitable for csv format\n",
    "csv_data = []\n",
    "for (policy_id, segment_id), response in inferences.items():\n",
    "    row = [\n",
    "        policy_id,\n",
    "        segment_id,\n",
    "        response\n",
    "    ]\n",
    "    csv_data.append(row)\n",
    "\n",
    "# Write/Append the data to CSV\n",
    "with open(csv_file_path, mode=\"w\", newline=\"\") as file:\n",
    "    writer = csv.writer(file)\n",
    "    writer.writerow(header)\n",
    "    writer.writerows(csv_data)"
   ]
  },
  {
   "cell_type": "markdown",
   "metadata": {},
   "source": [
    "### Cleaning the responses"
   ]
  },
  {
   "cell_type": "code",
   "execution_count": 13,
   "metadata": {
    "trusted": true
   },
   "outputs": [],
   "source": [
    "cleaned_responses = {}\n",
    "\n",
    "# Mapping of category names to their corresponding keys\n",
    "category_mapping = {\n",
    "    \"First Party Collection/Use\": \"first_party_collection_use\",\n",
    "    \"Third Party Sharing/Collection\": \"third_party_sharing_collection\",\n",
    "    \"User Choice/Control\": \"user_choice_control\",\n",
    "    \"User Access, Edit, & Deletion\": \"user_access_edit_deletion\",\n",
    "    \"Data Retention\": \"data_retention\",\n",
    "    \"Data Security\": \"data_security\",\n",
    "    \"Policy Change\": \"policy_change\",\n",
    "    \"Do Not Track\": \"do_not_track\",\n",
    "    \"International & Specific Audiences\": \"international_specific_audiences\",\n",
    "    \"Other\": \"other\",\n",
    "}\n",
    "\n",
    "# Extract the JSON object after [/INST]\n",
    "for (policy_id, segment_id), response in inferences.items():\n",
    "    try:\n",
    "        # Split the text by [/INST] and take the part after it\n",
    "        json_part = response.split(\"[/INST]\")[-1].strip()\n",
    "\n",
    "        # Ensure the JSON contains all the required categories\n",
    "        response_dict = json.loads(json_part)\n",
    "        new_response_dict = {}\n",
    "\n",
    "        for key_in_response in response_dict.keys():\n",
    "            for category_name in category_names:\n",
    "                if category_name in key_in_response:\n",
    "                    mapped_category_name = category_mapping[category_name] \n",
    "                    new_response_dict[mapped_category_name] = \"yes\" if response_dict[key_in_response] else \"no\"\n",
    "\n",
    "        if len(new_response_dict) == 10: ## Only put valid format inferences (26 out of 2980 are invalid)\n",
    "            cleaned_responses[(policy_id, segment_id)] = new_response_dict\n",
    "    except json.JSONDecodeError as e:\n",
    "        print(f\"Error decoding JSON: {e}\")"
   ]
  },
  {
   "cell_type": "markdown",
   "metadata": {},
   "source": [
    "### Save the Inferences to a CSV\n"
   ]
  },
  {
   "cell_type": "code",
   "execution_count": 14,
   "metadata": {
    "execution": {
     "iopub.execute_input": "2024-12-18T13:49:42.500911Z",
     "iopub.status.busy": "2024-12-18T13:49:42.500028Z",
     "iopub.status.idle": "2024-12-18T13:49:42.548765Z",
     "shell.execute_reply": "2024-12-18T13:49:42.547695Z",
     "shell.execute_reply.started": "2024-12-18T13:49:42.500873Z"
    },
    "trusted": true
   },
   "outputs": [],
   "source": [
    "# Function to ensure input is a CategoryClassification instance\n",
    "def ensure_category_classification(data):\n",
    "    if isinstance(data, dict):\n",
    "        return CategoryClassification(**data)\n",
    "    elif isinstance(data, str):\n",
    "        data = json.loads(data)\n",
    "        return CategoryClassification(**data)\n",
    "    else:\n",
    "        raise ValueError(\"Unsupported data type for conversion\")\n",
    "\n",
    "for key, value in cleaned_responses.items():\n",
    "    cleaned_responses[key] = ensure_category_classification(value)\n",
    "\n",
    "inferences = cleaned_responses"
   ]
  },
  {
   "cell_type": "code",
   "execution_count": 15,
   "metadata": {
    "execution": {
     "iopub.execute_input": "2024-12-18T13:32:34.147641Z",
     "iopub.status.busy": "2024-12-18T13:32:34.146943Z",
     "iopub.status.idle": "2024-12-18T13:32:34.168987Z",
     "shell.execute_reply": "2024-12-18T13:32:34.168144Z",
     "shell.execute_reply.started": "2024-12-18T13:32:34.147606Z"
    },
    "trusted": true
   },
   "outputs": [
    {
     "name": "stdout",
     "output_type": "stream",
     "text": [
      "CSV file created successfully.\n"
     ]
    }
   ],
   "source": [
    "# Define the Columns in the CSV (Header)\n",
    "header = [\n",
    "    \"policy_id\",\n",
    "    \"segment_id\",\n",
    "    \"first_party_collection_use\",\n",
    "    \"third_party_sharing_collection\",\n",
    "    \"user_choice_control\",\n",
    "    \"user_access_edit_deletion\",\n",
    "    \"data_retention\",\n",
    "    \"data_security\",\n",
    "    \"policy_change\",\n",
    "    \"do_not_track\",\n",
    "    \"international_specific_audiences\",\n",
    "    \"other\",\n",
    "]\n",
    "\n",
    "# Convert the inferences dict in a format suitable for csv format\n",
    "csv_data = []\n",
    "for (policy_id, segment_id), classification in inferences.items():\n",
    "\n",
    "    try:\n",
    "        row = [\n",
    "            policy_id,\n",
    "            segment_id,\n",
    "            classification.first_party_collection_use.value,\n",
    "            classification.third_party_sharing_collection.value,\n",
    "            classification.user_choice_control.value,\n",
    "            classification.user_access_edit_deletion.value,\n",
    "            classification.data_retention.value,\n",
    "            classification.data_security.value,\n",
    "            classification.policy_change.value,\n",
    "            classification.do_not_track.value,\n",
    "            classification.international_specific_audiences.value,\n",
    "            classification.other.value,\n",
    "        ]\n",
    "        csv_data.append(row)\n",
    "    except Exception :\n",
    "        print(classification)\n",
    "\n",
    "# Write/Append the data to CSV\n",
    "with open(cleaned_csv_file_path, mode=\"w\", newline=\"\") as file:\n",
    "    writer = csv.writer(file)\n",
    "    writer.writerow(header)\n",
    "    writer.writerows(csv_data)\n",
    "\n",
    "print(\"CSV file created successfully.\")"
   ]
  },
  {
   "cell_type": "markdown",
   "metadata": {},
   "source": [
    "### Evaluation\n"
   ]
  },
  {
   "cell_type": "code",
   "execution_count": 16,
   "metadata": {
    "execution": {
     "iopub.execute_input": "2024-12-18T13:48:58.279046Z",
     "iopub.status.busy": "2024-12-18T13:48:58.278307Z",
     "iopub.status.idle": "2024-12-18T13:48:58.357048Z",
     "shell.execute_reply": "2024-12-18T13:48:58.355880Z",
     "shell.execute_reply.started": "2024-12-18T13:48:58.279012Z"
    },
    "trusted": true,
    "vscode": {
     "languageId": "ruby"
    }
   },
   "outputs": [],
   "source": [
    "y_pred_binary_list = []\n",
    "for idx, row in opp_115.iterrows():\n",
    "    try:\n",
    "        current_inference = inferences[(row[\"policy_id\"], row[\"segment_id\"])]\n",
    "        \n",
    "        y_pred_binary_list.append([\n",
    "            current_inference.first_party_collection_use == Classification.YES,\n",
    "            current_inference.third_party_sharing_collection == Classification.YES,\n",
    "            current_inference.user_choice_control == Classification.YES,\n",
    "            current_inference.user_access_edit_deletion == Classification.YES,\n",
    "            current_inference.data_retention == Classification.YES,\n",
    "            current_inference.data_security == Classification.YES,\n",
    "            current_inference.policy_change == Classification.YES,\n",
    "            current_inference.do_not_track == Classification.YES,\n",
    "            current_inference.international_specific_audiences == Classification.YES,\n",
    "            current_inference.other == Classification.YES,\n",
    "        ])\n",
    "    except:\n",
    "        y_pred_binary_list.append([0, 0, 0, 0, 0, 0, 0, 0, 0, 0])\n",
    "\n",
    "y_pred_binary = np.array(y_pred_binary_list)"
   ]
  },
  {
   "cell_type": "code",
   "execution_count": 17,
   "metadata": {
    "trusted": true,
    "vscode": {
     "languageId": "ruby"
    }
   },
   "outputs": [
    {
     "data": {
      "image/png": "[encoded data removed]",
      "text/plain": [
       "<Figure size 1600x600 with 20 Axes>"
      ]
     },
     "metadata": {},
     "output_type": "display_data"
    }
   ],
   "source": [
    "# Generate the multilabel confusion matrix\n",
    "confusion_matrices = multilabel_confusion_matrix(y_true_binary, y_pred_binary)\n",
    "\n",
    "fig, axes = plt.subplots(2, 5, figsize=(16, 6))\n",
    "axes = axes.flatten()\n",
    "\n",
    "for i, ax in enumerate(axes):\n",
    "    sns.heatmap(confusion_matrices[i], annot=True, fmt=\"d\", cmap=\"Blues\", ax=ax)\n",
    "    ax.set_title(f\"Class {classes[i]}\")\n",
    "    ax.set_xlabel(\"Predicted\")\n",
    "    ax.set_ylabel(\"True\")\n",
    "    ax.xaxis.set_tick_params(rotation=0)\n",
    "    ax.yaxis.set_tick_params(rotation=0)\n",
    "\n",
    "\n",
    "# Add a footer to represent what each class number is\n",
    "footer_text = \"; \".join([f\"Class {i+1}: {category_name}\" for i, category_name in enumerate(category_names[0:5])])\n",
    "footer_text += \"\\n\"\n",
    "footer_text += \"; \".join([f\"Class {i+6}: {category_name}\" for i, category_name in enumerate(category_names[5:10])])\n",
    "plt.figtext(0.5, -0.05, footer_text, ha=\"center\", fontsize=10)\n",
    "plt.tight_layout(pad=2.0)\n",
    "plt.show()"
   ]
  },
  {
   "cell_type": "code",
   "execution_count": 18,
   "metadata": {
    "trusted": true,
    "vscode": {
     "languageId": "ruby"
    }
   },
   "outputs": [
    {
     "name": "stdout",
     "output_type": "stream",
     "text": [
      "                                   accuracy\n",
      "\n",
      "        First Party Collection/Use     0.52\n",
      "    Third Party Sharing/Collection     0.53\n",
      "               User Choice/Control     0.53\n",
      "     User Access, Edit, & Deletion     0.49\n",
      "                    Data Retention     0.48\n",
      "                     Data Security     0.50\n",
      "                     Policy Change     0.45\n",
      "                      Do Not Track     0.58\n",
      "International & Specific Audiences     0.83\n",
      "                             Other     0.48\n",
      "\n",
      "Average Accuracy: 0.54\n"
     ]
    }
   ],
   "source": [
    "# Calculate accuracy for each class\n",
    "accuracies = (y_true_binary == y_pred_binary).mean(axis=0)\n",
    "accuracy_per_class = dict(zip(category_names, accuracies))\n",
    "\n",
    "accuracy_report = \"                                   accuracy\\n\\n\"\n",
    "for category, accuracy in accuracy_per_class.items():\n",
    "\n",
    "    accuracy_report += f\"{category.rjust(34)} {accuracy:8.2f}\\n\"\n",
    "\n",
    "print(accuracy_report)\n",
    "# Calculate the average accuracy across all classes\n",
    "average_accuracy = accuracies.mean()\n",
    "print(f\"Average Accuracy: {average_accuracy:.2f}\")"
   ]
  },
  {
   "cell_type": "code",
   "execution_count": 19,
   "metadata": {
    "trusted": true,
    "vscode": {
     "languageId": "ruby"
    }
   },
   "outputs": [
    {
     "name": "stdout",
     "output_type": "stream",
     "text": [
      "                                    precision    recall  f1-score   support\n",
      "\n",
      "        First Party Collection/Use       0.45      0.99      0.62       295\n",
      "    Third Party Sharing/Collection       0.39      0.94      0.55       231\n",
      "               User Choice/Control       0.27      0.95      0.43       136\n",
      "     User Access, Edit, & Deletion       0.11      0.92      0.19        49\n",
      "                    Data Retention       0.07      0.91      0.13        33\n",
      "                     Data Security       0.17      0.87      0.28        84\n",
      "                     Policy Change       0.05      0.67      0.09        30\n",
      "                      Do Not Track       0.03      1.00      0.05         9\n",
      "International & Specific Audiences       0.31      0.69      0.43        68\n",
      "                             Other       0.48      0.95      0.64       356\n",
      "\n",
      "                         micro avg       0.26      0.93      0.41      1291\n",
      "                         macro avg       0.23      0.89      0.34      1291\n",
      "                      weighted avg       0.37      0.93      0.51      1291\n",
      "                       samples avg       0.37      0.93      0.47      1291\n",
      "\n"
     ]
    },
    {
     "name": "stderr",
     "output_type": "stream",
     "text": [
      "/Users/shayan/anaconda3/envs/llm/lib/python3.12/site-packages/sklearn/metrics/_classification.py:1565: UndefinedMetricWarning: Precision is ill-defined and being set to 0.0 in samples with no predicted labels. Use `zero_division` parameter to control this behavior.\n",
      "  _warn_prf(average, modifier, f\"{metric.capitalize()} is\", len(result))\n"
     ]
    }
   ],
   "source": [
    "# Generate the classification report\n",
    "metrics_report = classification_report(y_true_binary, y_pred_binary, target_names=category_names)\n",
    "print(metrics_report)"
   ]
  },
  {
   "cell_type": "code",
   "execution_count": null,
   "metadata": {
    "vscode": {
     "languageId": "ruby"
    }
   },
   "outputs": [],
   "source": []
  }
 ],
 "metadata": {
  "kaggle": {
   "accelerator": "nvidiaTeslaT4",
   "dataSources": [
    {
     "datasetId": 6323536,
     "sourceId": 10227869,
     "sourceType": "datasetVersion"
    },
    {
     "datasetId": 6326233,
     "sourceId": 10231558,
     "sourceType": "datasetVersion"
    }
   ],
   "dockerImageVersionId": 30805,
   "isGpuEnabled": true,
   "isInternetEnabled": true,
   "language": "python",
   "sourceType": "notebook"
  },
  "kernelspec": {
   "display_name": "llm",
   "language": "python",
   "name": "python3"
  },
  "language_info": {
   "codemirror_mode": {
    "name": "ipython",
    "version": 3
   },
   "file_extension": ".py",
   "mimetype": "text/x-python",
   "name": "python",
   "nbconvert_exporter": "python",
   "pygments_lexer": "ipython3",
   "version": "3.12.2"
  }
 },
 "nbformat": 4,
 "nbformat_minor": 4
}
