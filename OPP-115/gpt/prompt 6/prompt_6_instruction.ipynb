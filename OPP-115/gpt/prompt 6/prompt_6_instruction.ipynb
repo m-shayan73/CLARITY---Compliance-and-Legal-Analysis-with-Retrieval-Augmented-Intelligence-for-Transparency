{
 "cells": [
  {
   "cell_type": "markdown",
   "metadata": {},
   "source": [
    "# ChatGPT\n"
   ]
  },
  {
   "cell_type": "markdown",
   "metadata": {},
   "source": [
    "### Import Libraries\n"
   ]
  },
  {
   "cell_type": "code",
   "execution_count": 1,
   "metadata": {},
   "outputs": [],
   "source": [
    "from openai import OpenAI\n",
    "from pydantic import BaseModel\n",
    "from sklearn.metrics import (\n",
    "    classification_report,\n",
    "    multilabel_confusion_matrix,\n",
    ")\n",
    "from tqdm.notebook import tqdm\n",
    "import numpy as np\n",
    "import pandas as pd\n",
    "import matplotlib.pyplot as plt\n",
    "import seaborn as sns\n",
    "import time\n",
    "import random\n",
    "import enum\n",
    "import dotenv\n",
    "import csv\n",
    "import os\n",
    "import json"
   ]
  },
  {
   "cell_type": "code",
   "execution_count": 27,
   "metadata": {},
   "outputs": [],
   "source": [
    "# Path to save the inferences\n",
    "csv_file_path = \"prompt6_2_4o_inferences.csv\"\n",
    "base_inferences_csv_path = \"prompt6_2_4o_base_inferences.csv\""
   ]
  },
  {
   "cell_type": "markdown",
   "metadata": {},
   "source": [
    "### Load and Preprocess Dataset\n"
   ]
  },
  {
   "cell_type": "code",
   "execution_count": 3,
   "metadata": {
    "vscode": {
     "languageId": "javascript"
    }
   },
   "outputs": [
    {
     "data": {
      "text/html": [
       "<div>\n",
       "<style scoped>\n",
       "    .dataframe tbody tr th:only-of-type {\n",
       "        vertical-align: middle;\n",
       "    }\n",
       "\n",
       "    .dataframe tbody tr th {\n",
       "        vertical-align: top;\n",
       "    }\n",
       "\n",
       "    .dataframe thead th {\n",
       "        text-align: right;\n",
       "    }\n",
       "</style>\n",
       "<table border=\"1\" class=\"dataframe\">\n",
       "  <thead>\n",
       "    <tr style=\"text-align: right;\">\n",
       "      <th></th>\n",
       "      <th>segment_id</th>\n",
       "      <th>policy_id</th>\n",
       "      <th>text</th>\n",
       "      <th>label</th>\n",
       "    </tr>\n",
       "  </thead>\n",
       "  <tbody>\n",
       "    <tr>\n",
       "      <th>0</th>\n",
       "      <td>16</td>\n",
       "      <td>686</td>\n",
       "      <td>2. We disclose information to third parties if...</td>\n",
       "      <td>2</td>\n",
       "    </tr>\n",
       "    <tr>\n",
       "      <th>1</th>\n",
       "      <td>6</td>\n",
       "      <td>1017</td>\n",
       "      <td>During the course of any visit to the Sci-News...</td>\n",
       "      <td>10, 1</td>\n",
       "    </tr>\n",
       "    <tr>\n",
       "      <th>2</th>\n",
       "      <td>21</td>\n",
       "      <td>531</td>\n",
       "      <td>This information is primarily collected for st...</td>\n",
       "      <td>2, 5, 1</td>\n",
       "    </tr>\n",
       "    <tr>\n",
       "      <th>3</th>\n",
       "      <td>58</td>\n",
       "      <td>453</td>\n",
       "      <td>Third party providers of products and services...</td>\n",
       "      <td>6, 2</td>\n",
       "    </tr>\n",
       "    <tr>\n",
       "      <th>4</th>\n",
       "      <td>12</td>\n",
       "      <td>760</td>\n",
       "      <td>Security The Smithsonian takes reasonable ste...</td>\n",
       "      <td>6</td>\n",
       "    </tr>\n",
       "  </tbody>\n",
       "</table>\n",
       "</div>"
      ],
      "text/plain": [
       "   segment_id  policy_id                                               text  \\\n",
       "0          16        686  2. We disclose information to third parties if...   \n",
       "1           6       1017  During the course of any visit to the Sci-News...   \n",
       "2          21        531  This information is primarily collected for st...   \n",
       "3          58        453  Third party providers of products and services...   \n",
       "4          12        760   Security The Smithsonian takes reasonable ste...   \n",
       "\n",
       "     label  \n",
       "0        2  \n",
       "1    10, 1  \n",
       "2  2, 5, 1  \n",
       "3     6, 2  \n",
       "4        6  "
      ]
     },
     "execution_count": 3,
     "metadata": {},
     "output_type": "execute_result"
    }
   ],
   "source": [
    "opp_115 = pd.read_csv('../../opp_115_val.csv')\n",
    "opp_115.head()"
   ]
  },
  {
   "cell_type": "code",
   "execution_count": 4,
   "metadata": {},
   "outputs": [],
   "source": [
    "# One-hot encoding of labels\n",
    "classes = list(range(1, 11))\n",
    "\n",
    "\n",
    "def to_binary_matrix(y, classes):\n",
    "    return np.array(\n",
    "        [[1 if cls in curr_labels else 0 for cls in classes] for curr_labels in y]\n",
    "    )\n",
    "\n",
    "\n",
    "y_true = (\n",
    "    opp_115[\"label\"]\n",
    "    .apply(lambda x: [int(i) for i in x.split(\",\")] if isinstance(x, str) else [])\n",
    "    .tolist()\n",
    ")\n",
    "y_true_binary = to_binary_matrix(y_true, classes)\n",
    "y_true_binary = y_true_binary.astype(bool)"
   ]
  },
  {
   "cell_type": "markdown",
   "metadata": {},
   "source": [
    "### Load Model and Define Model Configuration\n"
   ]
  },
  {
   "cell_type": "code",
   "execution_count": 5,
   "metadata": {},
   "outputs": [],
   "source": [
    "# Define output classes\n",
    "class Classification(enum.Enum):\n",
    "    YES = \"yes\"\n",
    "    NO = \"no\"\n",
    "\n",
    "\n",
    "class ClassificationWithDescription(BaseModel):\n",
    "    classification: Classification\n",
    "    reasoning: str\n",
    "\n",
    "\n",
    "class CategoryClassification(BaseModel):\n",
    "    first_party_collection_use: Classification\n",
    "    third_party_sharing_collection: Classification\n",
    "    user_choice_control: Classification\n",
    "    user_access_edit_deletion: Classification\n",
    "    data_retention: Classification\n",
    "    data_security: Classification\n",
    "    policy_change: Classification\n",
    "    do_not_track: Classification\n",
    "    international_specific_audiences: Classification\n",
    "    other: Classification\n",
    "\n",
    "\n",
    "class CategoryClassificationWithDescription(BaseModel):\n",
    "    first_party_collection_use: ClassificationWithDescription\n",
    "    third_party_sharing_collection: ClassificationWithDescription\n",
    "    user_choice_control: ClassificationWithDescription\n",
    "    user_access_edit_deletion: ClassificationWithDescription\n",
    "    data_retention: ClassificationWithDescription\n",
    "    data_security: ClassificationWithDescription\n",
    "    policy_change: ClassificationWithDescription\n",
    "    do_not_track: ClassificationWithDescription\n",
    "    international_specific_audiences: ClassificationWithDescription\n",
    "    other: ClassificationWithDescription\n",
    "\n",
    "class CategoryClassificationWithDescription1(BaseModel):\n",
    "    first_party_collection_use: ClassificationWithDescription\n",
    "    third_party_sharing_collection: ClassificationWithDescription\n",
    "    data_retention: ClassificationWithDescription\n",
    "    data_security: ClassificationWithDescription\n",
    "\n",
    "class CategoryClassificationWithDescription2(BaseModel):\n",
    "    user_choice_control: ClassificationWithDescription\n",
    "    user_access_edit_deletion: ClassificationWithDescription\n",
    "    policy_change: ClassificationWithDescription\n",
    "    do_not_track: ClassificationWithDescription\n",
    "\n",
    "class CategoryClassificationWithDescription3(BaseModel):\n",
    "    international_specific_audiences: ClassificationWithDescription\n",
    "    other: ClassificationWithDescription"
   ]
  },
  {
   "cell_type": "code",
   "execution_count": 21,
   "metadata": {},
   "outputs": [],
   "source": [
    "dotenv.load_dotenv(\"../.env\")\n",
    "openai_api_key = dotenv.get_key(\"../.env\", \"OPENAI_API_KEY\")"
   ]
  },
  {
   "cell_type": "code",
   "execution_count": 22,
   "metadata": {},
   "outputs": [],
   "source": [
    "client = OpenAI(api_key=openai_api_key)"
   ]
  },
  {
   "cell_type": "markdown",
   "metadata": {},
   "source": [
    "### Define Categories\n"
   ]
  },
  {
   "cell_type": "code",
   "execution_count": 8,
   "metadata": {},
   "outputs": [],
   "source": [
    "category_names = [\n",
    "    \"First Party Collection/Use\",\n",
    "    \"Third Party Sharing/Collection\",\n",
    "    \"User Choice/Control\",\n",
    "    \"User Access, Edit, & Deletion\",\n",
    "    \"Data Retention\",\n",
    "    \"Data Security\",\n",
    "    \"Policy Change\",\n",
    "    \"Do Not Track\",\n",
    "    \"International & Specific Audiences\",\n",
    "    \"Other\",\n",
    "]\n",
    "\n",
    "category_descriptions = [\n",
    "    \"how and why a service provider collects user information.\",\n",
    "    \"how user information may be shared with or collected by third parties.\",\n",
    "    \"choices and control options available to users.\",\n",
    "    \"if and how users may access, edit, or delete their information.\",\n",
    "    \"how long user information is stored.\",\n",
    "    \"how user information is protected.\",\n",
    "    \"if and how users will be informed about changes to the privacy policy.\",\n",
    "    \"if and how Do Not Track signals for online tracking and advertising are honored.\",\n",
    "    \"practices that pertain only to a specific group of users (e.g., children, Europeans, or California residents).\",\n",
    "    \"includes privacy contact information, introductory or generic text, or data practices not covered in the above categories.\",\n",
    "]\n",
    "\n",
    "categories_names_str = \"\\n\".join(\n",
    "    [f\"{i+1}. {name}\" for i, name in enumerate(category_names)]\n",
    ")\n",
    "\n",
    "category_names_with_description_str = \"\\n\".join(\n",
    "    [\n",
    "        f\"{i+1}. {name}: {description}\"\n",
    "        for i, (name, description) in enumerate(\n",
    "            zip(category_names, category_descriptions)\n",
    "        )\n",
    "    ]\n",
    ")\n",
    "\n",
    "category_names_with_description_str1 = \"\\n\".join(\n",
    "    [\n",
    "        f\"{i+1}. {name}: {description}\"\n",
    "        for i, (name, description) in enumerate(\n",
    "            zip(category_names[:2] + category_names[4:6], category_descriptions[:2] + category_descriptions[4:6])\n",
    "        )\n",
    "    ]\n",
    ")\n",
    "\n",
    "category_names_with_description_str2 = \"\\n\".join(\n",
    "    [\n",
    "        f\"{i+1}. {name}: {description}\"\n",
    "        for i, (name, description) in enumerate(\n",
    "            zip(category_names[2:4] + category_names[6:8], category_descriptions[2:4] + category_descriptions[6:8])\n",
    "        )\n",
    "    ]\n",
    ")\n",
    "\n",
    "category_names_with_description_str3 = \"\\n\".join(\n",
    "    [\n",
    "        f\"{i+1}. {name}: {description}\"\n",
    "        for i, (name, description) in enumerate(\n",
    "            zip(category_names[8:], category_descriptions[8:])\n",
    "        )\n",
    "    ]\n",
    ")\n"
   ]
  },
  {
   "cell_type": "markdown",
   "metadata": {},
   "source": [
    "### Run the Inferences using Prompt 1\n"
   ]
  },
  {
   "cell_type": "code",
   "execution_count": 9,
   "metadata": {},
   "outputs": [],
   "source": [
    "base_inferences = [{}, {}, {}]\n",
    "inferences = {}\n",
    "current_idx = 0\n",
    "max_idx = len(opp_115)\n",
    "num_rate_limit_retries = 0"
   ]
  },
  {
   "cell_type": "code",
   "execution_count": 10,
   "metadata": {},
   "outputs": [
    {
     "name": "stdout",
     "output_type": "stream",
     "text": [
      "Starting from index 0\n"
     ]
    }
   ],
   "source": [
    "# Check if the there are any exisitng inferences saved in a CSV file\n",
    "csv_exist = False\n",
    "\n",
    "if os.path.exists(csv_file_path):\n",
    "    csv_exist = True\n",
    "\n",
    "    # Load the CSV file and add the existing inferences to the inferences dictionary\n",
    "    existing_inferences = pd.read_csv(csv_file_path)\n",
    "\n",
    "    # Add the existing data to inferences\n",
    "    for _, row in existing_inferences.iterrows():\n",
    "        policy_id = row[\"policy_id\"]\n",
    "        segment_id = row[\"segment_id\"]\n",
    "        classification = CategoryClassification(\n",
    "            first_party_collection_use=Classification(\n",
    "                row[\"first_party_collection_use\"]\n",
    "            ),\n",
    "            third_party_sharing_collection=Classification(\n",
    "                row[\"third_party_sharing_collection\"]\n",
    "            ),\n",
    "            user_choice_control=Classification(row[\"user_choice_control\"]),\n",
    "            user_access_edit_deletion=Classification(row[\"user_access_edit_deletion\"]),\n",
    "            data_retention=Classification(row[\"data_retention\"]),\n",
    "            data_security=Classification(row[\"data_security\"]),\n",
    "            policy_change=Classification(row[\"policy_change\"]),\n",
    "            do_not_track=Classification(row[\"do_not_track\"]),\n",
    "            international_specific_audiences=Classification(\n",
    "                row[\"international_specific_audiences\"]\n",
    "            ),\n",
    "            other=Classification(row[\"other\"]),\n",
    "        )\n",
    "        inferences[(policy_id, segment_id)] = classification\n",
    "\n",
    "while current_idx < max_idx:\n",
    "    policy_id = opp_115.iloc[current_idx][\"policy_id\"]\n",
    "    segment_id = opp_115.iloc[current_idx][\"segment_id\"]\n",
    "\n",
    "    if (policy_id, segment_id) in inferences:\n",
    "        current_idx += 1\n",
    "        continue\n",
    "    else:\n",
    "        break\n",
    "\n",
    "print(f\"Starting from index {current_idx}\")"
   ]
  },
  {
   "cell_type": "code",
   "execution_count": 23,
   "metadata": {},
   "outputs": [
    {
     "data": {
      "application/vnd.jupyter.widget-view+json": {
       "model_id": "68ae0469634d4006bb442afba050807f",
       "version_major": 2,
       "version_minor": 0
      },
      "text/plain": [
       "Running Inferences:   0%|          | 0/745 [00:00<?, ?it/s]"
      ]
     },
     "metadata": {},
     "output_type": "display_data"
    }
   ],
   "source": [
    "# Initialize tqdm progress bar\n",
    "progress_bar = tqdm(total=max_idx, desc=\"Running Inferences\")\n",
    "progress_bar.update(current_idx)\n",
    "\n",
    "# Loop through the records and run the inferences\n",
    "while current_idx < max_idx:\n",
    "    try:\n",
    "        current_record = opp_115.iloc[current_idx]\n",
    "        text = current_record[\"text\"]\n",
    "        policy_id = current_record[\"policy_id\"]\n",
    "        segment_id = current_record[\"segment_id\"]\n",
    "\n",
    "        if (policy_id, segment_id) in inferences:\n",
    "            current_idx += 1\n",
    "            progress_bar.update(1)\n",
    "            continue\n",
    "\n",
    "        # Run the base inference\n",
    "        base_system_prompt_1 = \"You are an expert legal language model specializing in privacy policy analysis, particularly regarding how user data is handled. Your task is to evaluate a given text segment to determine its relevance to specific privacy policy categories. For each category, provide a structured JSON response indicating whether the text fits the category, along with reasoning.\"\n",
    "        base_system_prompt_2 = \"You are an expert legal language model specializing in privacy policy analysis, particularly regarding user rights and control over their data. Your task is to evaluate a given text segment to determine its relevance to specific privacy policy categories. For each category, provide a structured JSON response indicating whether the text fits the category, along with reasoning.\"\n",
    "        base_system_prompt_3 = \"You are an expert legal language model specializing in privacy policy analysis, particularly regarding special user groups and additional information. Your task is to evaluate a given text segment to determine its relevance to specific privacy policy categories. For each category, provide a structured JSON response indicating whether the text fits the category, along with reasoning.\"\n",
    "        \n",
    "        base_system_prompts = [base_system_prompt_1, base_system_prompt_2, base_system_prompt_3]\n",
    "        base_category_names_description_strs = [category_names_with_description_str1, category_names_with_description_str2, category_names_with_description_str3]\n",
    "\n",
    "        def run_base_prompt(idx):\n",
    "            base_system_prompt = base_system_prompts[idx]\n",
    "            base_category_names_description_str = base_category_names_description_strs[idx]\n",
    "            base_user_prompt = f\"\"\"\n",
    "Text Segment:\n",
    "\\\" {text} \\\"\n",
    "\n",
    "Category Names with Description:\n",
    "{base_category_names_description_str}\n",
    "                \"\"\"\n",
    "\n",
    "            response = client.beta.chat.completions.parse(\n",
    "                model=\"gpt-4o-mini\",\n",
    "                messages=[\n",
    "                    {\"role\": \"system\", \"content\": base_system_prompt},\n",
    "                    {\"role\": \"user\", \"content\": base_user_prompt},\n",
    "                ],\n",
    "                temperature=0,\n",
    "                response_format=CategoryClassificationWithDescription,\n",
    "        )\n",
    "            \n",
    "            base_response = response.choices[0].message.parsed\n",
    "            if idx == 0:\n",
    "                value = {\n",
    "                    \"first_party_collection_use\": {\"classification\": base_response.first_party_collection_use.classification.value, \"reasoning\": base_response.first_party_collection_use.reasoning},\n",
    "                    \"third_party_sharing_collection\": {\"classification\": base_response.third_party_sharing_collection.classification.value, \"reasoning\": base_response.third_party_sharing_collection.reasoning},\n",
    "                    \"data_retention\": {\"classification\": base_response.data_retention.classification.value, \"reasoning\": base_response.data_retention.reasoning},\n",
    "                    \"data_security\": {\"classification\": base_response.data_security.classification.value, \"reasoning\": base_response.data_security.reasoning},\n",
    "                }\n",
    "            elif idx == 1:\n",
    "                value = {\n",
    "                    \"user_choice_control\": {\"classification\": base_response.user_choice_control.classification.value, \"reasoning\": base_response.user_choice_control.reasoning},\n",
    "                    \"user_access_edit_deletion\": {\"classification\": base_response.user_access_edit_deletion.classification.value, \"reasoning\": base_response.user_access_edit_deletion.reasoning},\n",
    "                    \"policy_change\": {\"classification\": base_response.policy_change.classification.value, \"reasoning\": base_response.policy_change.reasoning},\n",
    "                    \"do_not_track\": {\"classification\": base_response.do_not_track.classification.value, \"reasoning\": base_response.do_not_track.reasoning},\n",
    "                }\n",
    "            else:\n",
    "                value = {\n",
    "                    \"international_specific_audiences\": {\"classification\": base_response.international_specific_audiences.classification.value, \"reasoning\": base_response.international_specific_audiences.reasoning},\n",
    "                    \"other\": {\"classification\": base_response.other.classification.value, \"reasoning\": base_response.other.reasoning},\n",
    "                }\n",
    "\n",
    "            value = json.dumps(value, indent=4)\n",
    "\n",
    "            # Stores the json response in the base_inferences dictionary for later use\n",
    "            base_inferences[idx][(policy_id, segment_id)] = value\n",
    "\n",
    "        run_base_prompt(0)\n",
    "        run_base_prompt(1)\n",
    "        run_base_prompt(2)\n",
    "                                \n",
    "        # Run the aggregation/final inference\n",
    "        system_prompt = \"You are an expert legal language model specializing in privacy policy analysis. Your task is to evaluate and consolidate the results of three JSON outputs generated by specialized prompts. These JSON outputs analyze the relevance of a given text segment to predefined privacy policy categories. Your goal is to cross-reference the provided JSON outputs with the text segment and produce a final JSON response with a definitive \\\"yes\\\" or \\\"no\\\" for each category.\"\n",
    "        user_prompt = f\"\"\"\n",
    "Text Segment:\n",
    "\\\" {text} \\\"\n",
    "\n",
    "Category Names with Description:\n",
    "{category_names_with_description_str}\n",
    "\n",
    "JSON Output 1 Generated by Specialized Prompt:\n",
    "{base_inferences[0][(policy_id, segment_id)]}\n",
    "\n",
    "JSON Output 2 Generated by Specialized Prompt:\n",
    "{base_inferences[1][(policy_id, segment_id)]}\n",
    "\n",
    "JSON Output 3 Generated by Specialized Prompt:\n",
    "{base_inferences[2][(policy_id, segment_id)]}\n",
    "\n",
    "Instructions:\n",
    "1) Analyze the provided text segment to understand its content and relevance to the categories listed.\n",
    "2) Review and consolidate the three JSON responses, paying attention to both the classifications and reasoning for each category.\n",
    "3) Independently evaluate the accuracy of each classification by comparing it against the text segment.\n",
    "5) For each category, provide a final classification (yes or no) based on your independent analysis of the text segment.\n",
    "6) Focus solely on the relevance of the text segment to each category, without being influenced by errors or omissions in the provided JSON response's reasoning.\n",
    "            \"\"\"\n",
    "\n",
    "        response = client.beta.chat.completions.parse(\n",
    "            model=\"gpt-4o-mini\",\n",
    "            messages=[\n",
    "                {\"role\": \"system\", \"content\": system_prompt},\n",
    "                {\"role\": \"user\", \"content\": user_prompt},\n",
    "            ],\n",
    "            temperature=0,\n",
    "            response_format=CategoryClassification,\n",
    "        )\n",
    "\n",
    "        # Stores the json response in the inferences dictionary for later use\n",
    "        inferences[(policy_id, segment_id)] = response.choices[0].message.parsed\n",
    "\n",
    "        current_idx += 1\n",
    "        progress_bar.update(1)\n",
    "\n",
    "    # In case of hitting the rate limit\n",
    "    except Exception as e:\n",
    "        print(e)\n",
    "        if num_rate_limit_retries >= 5:\n",
    "            print(f\"At record {current_idx}\")\n",
    "            break\n",
    "\n",
    "        time.sleep(random.randint(5, 15))\n",
    "        num_rate_limit_retries += 1\n",
    "\n",
    "# Close the progress bar\n",
    "progress_bar.close()"
   ]
  },
  {
   "cell_type": "code",
   "execution_count": 24,
   "metadata": {},
   "outputs": [],
   "source": [
    "import copy\n",
    "\n",
    "inferences_copy = copy.deepcopy(inferences)\n",
    "base_inferences_copy = copy.deepcopy(base_inferences)"
   ]
  },
  {
   "cell_type": "markdown",
   "metadata": {},
   "source": [
    "### Save the Inferences to a CSV\n"
   ]
  },
  {
   "cell_type": "code",
   "execution_count": 25,
   "metadata": {},
   "outputs": [
    {
     "name": "stdout",
     "output_type": "stream",
     "text": [
      "CSV file created successfully.\n"
     ]
    }
   ],
   "source": [
    "# Define the Columns in the CSV (Header)\n",
    "header = [\n",
    "    \"policy_id\",\n",
    "    \"segment_id\",\n",
    "    \"first_party_collection_use\",\n",
    "    \"third_party_sharing_collection\",\n",
    "    \"user_choice_control\",\n",
    "    \"user_access_edit_deletion\",\n",
    "    \"data_retention\",\n",
    "    \"data_security\",\n",
    "    \"policy_change\",\n",
    "    \"do_not_track\",\n",
    "    \"international_specific_audiences\",\n",
    "    \"other\",\n",
    "]\n",
    "\n",
    "# Convert the inferences dict in a format suitable for csv format\n",
    "csv_data = []\n",
    "for (policy_id, segment_id), classification in inferences.items():\n",
    "    row = [\n",
    "        policy_id,\n",
    "        segment_id,\n",
    "        classification.first_party_collection_use.value,\n",
    "        classification.third_party_sharing_collection.value,\n",
    "        classification.user_choice_control.value,\n",
    "        classification.user_access_edit_deletion.value,\n",
    "        classification.data_retention.value,\n",
    "        classification.data_security.value,\n",
    "        classification.policy_change.value,\n",
    "        classification.do_not_track.value,\n",
    "        classification.international_specific_audiences.value,\n",
    "        classification.other.value,\n",
    "    ]\n",
    "    csv_data.append(row)\n",
    "\n",
    "# Write/Append the data to CSV\n",
    "with open(csv_file_path, mode=\"w\", newline=\"\") as file:\n",
    "    writer = csv.writer(file)\n",
    "    writer.writerow(header)\n",
    "    writer.writerows(csv_data)\n",
    "\n",
    "print(\"CSV file created successfully.\")"
   ]
  },
  {
   "cell_type": "code",
   "execution_count": 26,
   "metadata": {},
   "outputs": [],
   "source": [
    "combined_base_inferences = {}\n",
    "\n",
    "for idx, base_inference in enumerate(base_inferences):\n",
    "    for (policy_id, segment_id), json_data in base_inference.items():\n",
    "        json_data = json.loads(json_data)\n",
    "        if (policy_id, segment_id) not in combined_base_inferences:\n",
    "            combined_base_inferences[(policy_id, segment_id)] = json_data\n",
    "        else:\n",
    "            for key, value in json_data.items():\n",
    "                combined_base_inferences[(policy_id, segment_id)][key] = value"
   ]
  },
  {
   "cell_type": "code",
   "execution_count": 28,
   "metadata": {},
   "outputs": [
    {
     "name": "stdout",
     "output_type": "stream",
     "text": [
      "CSV file created successfully.\n"
     ]
    }
   ],
   "source": [
    "# Define new columns for base inferences\n",
    "header_reasoning = [\n",
    "    \"first_party_collection_use_reasoning\",\n",
    "    \"third_party_sharing_collection_reasoning\",\n",
    "    \"user_choice_control_reasoning\",\n",
    "    \"user_access_edit_deletion_reasoning\",\n",
    "    \"data_retention_reasoning\",\n",
    "    \"data_security_reasoning\",\n",
    "    \"policy_change_reasoning\",\n",
    "    \"do_not_track_reasoning\",\n",
    "    \"international_specific_audiences_reasoning\",\n",
    "    \"other_reasoning\",\n",
    "]\n",
    "\n",
    "# Convert the base inferences json in a format suitable for csv format\n",
    "csv_data = []\n",
    "count=0\n",
    "for (policy_id, segment_id), json_data in combined_base_inferences.items():\n",
    "    row = [\n",
    "        policy_id,\n",
    "        segment_id,\n",
    "        json_data[\"first_party_collection_use\"][\"classification\"],\n",
    "        json_data[\"third_party_sharing_collection\"][\"classification\"],\n",
    "        json_data[\"user_choice_control\"][\"classification\"],\n",
    "        json_data[\"user_access_edit_deletion\"][\"classification\"],\n",
    "        json_data[\"data_retention\"][\"classification\"],\n",
    "        json_data[\"data_security\"][\"classification\"],\n",
    "        json_data[\"policy_change\"][\"classification\"],\n",
    "        json_data[\"do_not_track\"][\"classification\"],\n",
    "        json_data[\"international_specific_audiences\"][\"classification\"],\n",
    "        json_data[\"other\"][\"classification\"],\n",
    "        json_data[\"first_party_collection_use\"][\"reasoning\"],\n",
    "        json_data[\"third_party_sharing_collection\"][\"reasoning\"],\n",
    "        json_data[\"user_choice_control\"][\"reasoning\"],\n",
    "        json_data[\"user_access_edit_deletion\"][\"reasoning\"],\n",
    "        json_data[\"data_retention\"][\"reasoning\"],\n",
    "        json_data[\"data_security\"][\"reasoning\"],\n",
    "        json_data[\"policy_change\"][\"reasoning\"],\n",
    "        json_data[\"do_not_track\"][\"reasoning\"],\n",
    "        json_data[\"international_specific_audiences\"][\"reasoning\"],\n",
    "        json_data[\"other\"][\"reasoning\"]   \n",
    "    ]\n",
    "    csv_data.append(row)\n",
    "\n",
    "# Write/Append the data to CSV\n",
    "with open(base_inferences_csv_path, mode=\"w\", newline=\"\") as file:\n",
    "    writer = csv.writer(file)\n",
    "    writer.writerow(header)\n",
    "    writer.writerows(csv_data)\n",
    "\n",
    "print(\"CSV file created successfully.\")"
   ]
  },
  {
   "cell_type": "markdown",
   "metadata": {},
   "source": [
    "### Evaluation\n"
   ]
  },
  {
   "cell_type": "code",
   "execution_count": 29,
   "metadata": {
    "vscode": {
     "languageId": "ruby"
    }
   },
   "outputs": [],
   "source": [
    "# Extract predicted labels from the inferences\n",
    "y_pred_binary = np.array([\n",
    "    [\n",
    "        inferences[(row[\"policy_id\"], row[\"segment_id\"])].first_party_collection_use == Classification.YES,\n",
    "        inferences[(row[\"policy_id\"], row[\"segment_id\"])].third_party_sharing_collection == Classification.YES,\n",
    "        inferences[(row[\"policy_id\"], row[\"segment_id\"])].user_choice_control == Classification.YES,\n",
    "        inferences[(row[\"policy_id\"], row[\"segment_id\"])].user_access_edit_deletion == Classification.YES,\n",
    "        inferences[(row[\"policy_id\"], row[\"segment_id\"])].data_retention == Classification.YES,\n",
    "        inferences[(row[\"policy_id\"], row[\"segment_id\"])].data_security == Classification.YES,\n",
    "        inferences[(row[\"policy_id\"], row[\"segment_id\"])].policy_change == Classification.YES,\n",
    "        inferences[(row[\"policy_id\"], row[\"segment_id\"])].do_not_track == Classification.YES,\n",
    "        inferences[(row[\"policy_id\"], row[\"segment_id\"])].international_specific_audiences == Classification.YES,\n",
    "        inferences[(row[\"policy_id\"], row[\"segment_id\"])].other == Classification.YES,\n",
    "    ]\n",
    "    for _, row in opp_115.iterrows()\n",
    "])"
   ]
  },
  {
   "cell_type": "code",
   "execution_count": 31,
   "metadata": {
    "vscode": {
     "languageId": "ruby"
    }
   },
   "outputs": [
    {
     "data": {
      "image/png": "[encoded data removed]",
      "text/plain": [
       "<Figure size 1600x600 with 20 Axes>"
      ]
     },
     "metadata": {},
     "output_type": "display_data"
    }
   ],
   "source": [
    "# Generate the multilabel confusion matrix\n",
    "confusion_matrices = multilabel_confusion_matrix(y_true_binary, y_pred_binary)\n",
    "\n",
    "fig, axes = plt.subplots(2, 5, figsize=(16, 6))\n",
    "axes = axes.flatten()\n",
    "\n",
    "for i, ax in enumerate(axes):\n",
    "    sns.heatmap(confusion_matrices[i], annot=True, fmt=\"d\", cmap=\"Blues\", ax=ax)\n",
    "    ax.set_title(f\"Class {classes[i]}\")\n",
    "    ax.set_xlabel(\"Predicted\")\n",
    "    ax.set_ylabel(\"True\")\n",
    "    ax.xaxis.set_tick_params(rotation=0)\n",
    "    ax.yaxis.set_tick_params(rotation=0)\n",
    "\n",
    "\n",
    "# Add a footer to represent what each class number is\n",
    "footer_text = \"; \".join([f\"Class {i+1}: {category_name}\" for i, category_name in enumerate(category_names[0:5])])\n",
    "footer_text += \"\\n\"\n",
    "footer_text += \"; \".join([f\"Class {i+6}: {category_name}\" for i, category_name in enumerate(category_names[5:10])])\n",
    "plt.figtext(0.5, -0.05, footer_text, ha=\"center\", fontsize=10)\n",
    "plt.tight_layout(pad=2.0)\n",
    "plt.show()"
   ]
  },
  {
   "cell_type": "code",
   "execution_count": 32,
   "metadata": {
    "vscode": {
     "languageId": "ruby"
    }
   },
   "outputs": [
    {
     "name": "stdout",
     "output_type": "stream",
     "text": [
      "                                   accuracy\n",
      "\n",
      "        First Party Collection/Use     0.85\n",
      "    Third Party Sharing/Collection     0.83\n",
      "               User Choice/Control     0.79\n",
      "     User Access, Edit, & Deletion     0.96\n",
      "                    Data Retention     0.97\n",
      "                     Data Security     0.94\n",
      "                     Policy Change     0.96\n",
      "                      Do Not Track     0.99\n",
      "International & Specific Audiences     0.93\n",
      "                             Other     0.60\n",
      "\n",
      "Average Accuracy: 0.88\n"
     ]
    }
   ],
   "source": [
    "# Calculate accuracy for each class\n",
    "accuracies = (y_true_binary == y_pred_binary).mean(axis=0)\n",
    "accuracy_per_class = dict(zip(category_names, accuracies))\n",
    "\n",
    "accuracy_report = \"                                   accuracy\\n\\n\"\n",
    "for category, accuracy in accuracy_per_class.items():\n",
    "\n",
    "    accuracy_report += f\"{category.rjust(34)} {accuracy:8.2f}\\n\"\n",
    "\n",
    "print(accuracy_report)\n",
    "# Calculate the average accuracy across all classes\n",
    "average_accuracy = accuracies.mean()\n",
    "print(f\"Average Accuracy: {average_accuracy:.2f}\")"
   ]
  },
  {
   "cell_type": "code",
   "execution_count": 33,
   "metadata": {
    "vscode": {
     "languageId": "ruby"
    }
   },
   "outputs": [
    {
     "name": "stdout",
     "output_type": "stream",
     "text": [
      "                                    precision    recall  f1-score   support\n",
      "\n",
      "        First Party Collection/Use       0.78      0.87      0.82       295\n",
      "    Third Party Sharing/Collection       0.67      0.89      0.76       231\n",
      "               User Choice/Control       0.46      0.94      0.62       136\n",
      "     User Access, Edit, & Deletion       0.62      0.86      0.72        49\n",
      "                    Data Retention       0.64      0.76      0.69        33\n",
      "                     Data Security       0.75      0.69      0.72        84\n",
      "                     Policy Change       0.48      0.97      0.64        30\n",
      "                      Do Not Track       0.60      1.00      0.75         9\n",
      "International & Specific Audiences       0.58      0.99      0.73        68\n",
      "                             Other       0.56      0.78      0.65       356\n",
      "\n",
      "                         micro avg       0.61      0.85      0.71      1291\n",
      "                         macro avg       0.61      0.87      0.71      1291\n",
      "                      weighted avg       0.64      0.85      0.72      1291\n",
      "                       samples avg       0.66      0.89      0.72      1291\n",
      "\n"
     ]
    }
   ],
   "source": [
    "# Generate the classification report\n",
    "metrics_report = classification_report(y_true_binary, y_pred_binary, target_names=category_names)\n",
    "print(metrics_report)"
   ]
  },
  {
   "cell_type": "code",
   "execution_count": null,
   "metadata": {
    "vscode": {
     "languageId": "ruby"
    }
   },
   "outputs": [],
   "source": []
  }
 ],
 "metadata": {
  "kernelspec": {
   "display_name": "llm",
   "language": "python",
   "name": "python3"
  },
  "language_info": {
   "codemirror_mode": {
    "name": "ipython",
    "version": 3
   },
   "file_extension": ".py",
   "mimetype": "text/x-python",
   "name": "python",
   "nbconvert_exporter": "python",
   "pygments_lexer": "ipython3",
   "version": "3.12.7"
  }
 },
 "nbformat": 4,
 "nbformat_minor": 2
}
